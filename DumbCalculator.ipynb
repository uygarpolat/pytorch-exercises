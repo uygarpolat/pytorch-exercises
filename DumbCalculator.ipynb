{
 "cells": [
  {
   "cell_type": "code",
   "execution_count": 12,
   "id": "b4028427",
   "metadata": {},
   "outputs": [],
   "source": [
    "import torch\n",
    "import torch.nn as nn\n",
    "import torch.optim as optim"
   ]
  },
  {
   "cell_type": "code",
   "execution_count": 13,
   "id": "3fd6a372",
   "metadata": {},
   "outputs": [],
   "source": [
    "# Create a tensor from the training data and the intended output date, and give it a type\n",
    "X = torch.tensor([[1,2], [2,3], [3,4], [4,5]], dtype=torch.float32)\n",
    "Y = torch.tensor([[3], [5], [7], [9]], dtype=torch.float32)"
   ]
  },
  {
   "cell_type": "code",
   "execution_count": 14,
   "id": "c832ee08",
   "metadata": {},
   "outputs": [],
   "source": [
    "# \n",
    "class DumbCalculator(nn.Module):\n",
    "    def __init__(self):\n",
    "        super(DumbCalculator, self).__init__()\n",
    "        # Create a linear model with 2 inputs and 1 output\n",
    "        self.linear = nn.Linear(2,1)\n",
    "        \n",
    "    def forward(self, x):\n",
    "        return self.linear(x)\n",
    "    \n",
    "model = DumbCalculator()"
   ]
  },
  {
   "cell_type": "code",
   "execution_count": 15,
   "id": "3b90941d",
   "metadata": {},
   "outputs": [],
   "source": [
    "# Tally of how inaccurrate the predictions are compared to actual output\n",
    "loss = nn.MSELoss()\n",
    "# Stochastic gradient descent. Tells you which direction you should move to improve your model.\n",
    "optimizer = optim.SGD(model.parameters(), lr=0.01)"
   ]
  },
  {
   "cell_type": "code",
   "execution_count": 16,
   "id": "26143a80",
   "metadata": {},
   "outputs": [
    {
     "name": "stdout",
     "output_type": "stream",
     "text": [
      "Epoch 0 -- Error/Loss - 32.34800720214844\n",
      "Epoch 200 -- Error/Loss - 0.007752679288387299\n",
      "Epoch 400 -- Error/Loss - 0.0019567690324038267\n",
      "Epoch 600 -- Error/Loss - 0.0004939022473990917\n",
      "Epoch 800 -- Error/Loss - 0.00012465802137739956\n"
     ]
    }
   ],
   "source": [
    "# How many times do you want to teach your model?\n",
    "epochs = 1000\n",
    "for epoch in range(epochs):\n",
    "    optimizer.zero_grad()\n",
    "    output = model(X) # X is a tensor, size currently is 4 by 2\n",
    "    # Now we calculate the error by comparing to our expected output\n",
    "    error = loss(output, Y)\n",
    "    # Based on the direction of the error, the model will adjust its parameters\n",
    "    error.backward()\n",
    "    # Now we update our model's gradient\n",
    "    optimizer.step()\n",
    "    \n",
    "    if epoch % 200 == 0:\n",
    "        print(f\"Epoch {epoch} -- Error/Loss - {error.item()}\")"
   ]
  },
  {
   "cell_type": "code",
   "execution_count": 17,
   "id": "79383136",
   "metadata": {},
   "outputs": [
    {
     "name": "stdout",
     "output_type": "stream",
     "text": [
      "Predictions: [[10.989989]\n",
      " [22.643915]\n",
      " [36.305424]]\n"
     ]
    }
   ],
   "source": [
    "# No gradients need to be calculated during testing\n",
    "with torch.no_grad():\n",
    "    test = torch.tensor([[5,6], [10,15], [20,10]], dtype=torch.float32)\n",
    "    predict = model(test)\n",
    "    print(f\"Predictions: {predict.numpy()}\")\n",
    "    "
   ]
  },
  {
   "cell_type": "code",
   "execution_count": null,
   "id": "8e6221c1",
   "metadata": {},
   "outputs": [],
   "source": []
  }
 ],
 "metadata": {
  "kernelspec": {
   "display_name": "Python 3 (ipykernel)",
   "language": "python",
   "name": "python3"
  },
  "language_info": {
   "codemirror_mode": {
    "name": "ipython",
    "version": 3
   },
   "file_extension": ".py",
   "mimetype": "text/x-python",
   "name": "python",
   "nbconvert_exporter": "python",
   "pygments_lexer": "ipython3",
   "version": "3.10.4"
  }
 },
 "nbformat": 4,
 "nbformat_minor": 5
}
