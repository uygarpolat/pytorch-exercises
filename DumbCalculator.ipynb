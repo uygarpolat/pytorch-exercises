{
 "cells": [
  {
   "cell_type": "code",
   "execution_count": 58,
   "id": "b4028427",
   "metadata": {},
   "outputs": [],
   "source": [
    "# Teaching a model to be a calculator that can \"perform\" addition.\n",
    "\n",
    "import torch\n",
    "import torch.nn as nn\n",
    "import torch.optim as optim"
   ]
  },
  {
   "cell_type": "code",
   "execution_count": 59,
   "id": "3fd6a372",
   "metadata": {},
   "outputs": [],
   "source": [
    "# Create a tensor from the training data and the intended output date, and give it a type\n",
    "X = torch.tensor([[1,2], [2,3], [3,4], [4,5]], dtype=torch.float32)\n",
    "Y = torch.tensor([[3], [5], [7], [9]], dtype=torch.float32)"
   ]
  },
  {
   "cell_type": "code",
   "execution_count": 60,
   "id": "c832ee08",
   "metadata": {},
   "outputs": [],
   "source": [
    "# \n",
    "class DumbCalculator(nn.Module):\n",
    "    def __init__(self):\n",
    "        super(DumbCalculator, self).__init__()\n",
    "        # Create a linear model with 2 inputs and 1 output\n",
    "        self.linear = nn.Linear(2,1)\n",
    "        \n",
    "    def forward(self, x):\n",
    "        return self.linear(x)\n",
    "    \n",
    "model = DumbCalculator()"
   ]
  },
  {
   "cell_type": "code",
   "execution_count": 61,
   "id": "3b90941d",
   "metadata": {},
   "outputs": [],
   "source": [
    "# Tally of how inaccurrate the predictions are compared to actual output\n",
    "loss = nn.MSELoss()\n",
    "# Stochastic gradient descent. Tells you which direction you should move to improve your model.\n",
    "optimizer = optim.SGD(model.parameters(), lr=0.01)"
   ]
  },
  {
   "cell_type": "code",
   "execution_count": 62,
   "id": "26143a80",
   "metadata": {},
   "outputs": [
    {
     "name": "stdout",
     "output_type": "stream",
     "text": [
      "Epoch 0 -- Error/Loss - 11.236881256103516\n",
      "Epoch 200 -- Error/Loss - 0.0047433082945644855\n",
      "Epoch 400 -- Error/Loss - 0.001197215635329485\n",
      "Epoch 600 -- Error/Loss - 0.00030217168387025595\n",
      "Epoch 800 -- Error/Loss - 7.627614104421809e-05\n"
     ]
    }
   ],
   "source": [
    "# How many times do you want to teach your model?\n",
    "epochs = 1000\n",
    "for epoch in range(epochs):\n",
    "    optimizer.zero_grad()\n",
    "    output = model(X) # X is a tensor, size currently is 4 by 2\n",
    "    # Now we calculate the error by comparing to our expected output\n",
    "    error = loss(output, Y)\n",
    "    # Based on the direction of the error, the model will adjust its parameters\n",
    "    error.backward()\n",
    "    # Now we update our model's gradient\n",
    "    optimizer.step()\n",
    "    \n",
    "\t# Some proding to see how the model is doing\n",
    "    if epoch % 200 == 0:\n",
    "        print(f\"Epoch {epoch} -- Error/Loss - {error.item()}\")"
   ]
  },
  {
   "cell_type": "code",
   "execution_count": 63,
   "id": "79383136",
   "metadata": {},
   "outputs": [
    {
     "name": "stdout",
     "output_type": "stream",
     "text": [
      "Predictions according to the model:\n",
      "5 + 6 = 11.007830619812012\n",
      "10 + 15 = 25.353866577148438\n",
      "20 + 10 = 29.162817001342773\n"
     ]
    }
   ],
   "source": [
    "# We enable inference mode because we are not training the model anymore, we just want to see how it performs\n",
    "with torch.inference_mode():\n",
    "    data = [[5,6], [10,15], [20,10]]\n",
    "    test = torch.tensor(data, dtype=torch.float32)\n",
    "    predict = model(test)\n",
    "    print(f\"Predictions according to the model:\")\n",
    "    for i in range(len(data)):\n",
    "    \tprint(f\"{data[i][0]} + {data[i][1]} = {predict[i].item()}\")"
   ]
  }
 ],
 "metadata": {
  "kernelspec": {
   "display_name": "Python 3 (ipykernel)",
   "language": "python",
   "name": "python3"
  },
  "language_info": {
   "codemirror_mode": {
    "name": "ipython",
    "version": 3
   },
   "file_extension": ".py",
   "mimetype": "text/x-python",
   "name": "python",
   "nbconvert_exporter": "python",
   "pygments_lexer": "ipython3",
   "version": "3.10.4"
  }
 },
 "nbformat": 4,
 "nbformat_minor": 5
}
